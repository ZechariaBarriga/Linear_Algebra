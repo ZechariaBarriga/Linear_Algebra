{
 "cells": [
  {
   "cell_type": "code",
   "execution_count": 26,
   "id": "0fd8ddb1-41f8-4c4d-bbcc-000e4b98bf54",
   "metadata": {},
   "outputs": [
    {
     "name": "stdout",
     "output_type": "stream",
     "text": [
      "a. 3u - 2v =  [ -3 -16  10]\n",
      "b. 5u + 3v - 4w =  [ 6  1 35]\n",
      "c. u.v , v.w , u.w =  -3 , 8 , -12\n",
      "d. ||u||, ||v||, ||w|| =  4.58257569495584 , 5.916079783099616 , 3.7416573867739413\n",
      "e. angle(u,v) cos θ =  -0.11065666703449763\n",
      "f. angle(v,w) cos α =  0.36140316116210053\n",
      "g. angle(u,w) cos β =  -0.6998542122237653\n",
      "h. d(u,v) =  7.874007874011811\n",
      "i. d(w,v) =  5.744562646538029\n",
      "j. d(u,w) =  7.681145747868608\n",
      "k. proj(u,v) =  [-0.25714286 -0.42857143 -0.08571429]\n",
      "l. proj(w,v) =  [0.68571429 1.14285714 0.22857143]\n",
      "m. proj(u,w) =  [-1.71428571 -0.85714286  2.57142857]\n"
     ]
    }
   ],
   "source": [
    "import numpy as np\n",
    "\n",
    "u = np.array([1,-2,4])\n",
    "v = np.array([3,5,1])\n",
    "w = np.array([2,1,-3])\n",
    "\n",
    "print(\"a. 3u - 2v = \", 3*u - 2*v)\n",
    "print(\"b. 5u + 3v - 4w = \", 5*u + 3*v - 4*w)\n",
    "print(\"c. u.v , v.w , u.w = \", u.dot(v),\",\", v.dot(w),\",\", u.dot(w))\n",
    "print(\"d. ||u||, ||v||, ||w|| = \", np.sqrt(u.dot(u)),\",\", np.sqrt(v.dot(v)),\",\", np.sqrt(w.dot(w)))\n",
    "print(\"e. angle(u,v) cos θ = \", u.dot(v)/ (np.linalg.norm(u) * np.linalg.norm(v)))\n",
    "print(\"f. angle(v,w) cos α = \", v.dot(w)/ (np.linalg.norm(v) * np.linalg.norm(w)))\n",
    "print(\"g. angle(u,w) cos β = \", u.dot(w)/ (np.linalg.norm(u) * np.linalg.norm(w)))\n",
    "print(\"h. d(u,v) = \", np.linalg.norm(u-v))\n",
    "print(\"i. d(w,v) = \", np.linalg.norm(w-v))\n",
    "print(\"j. d(u,w) = \", np.linalg.norm(u-w))\n",
    "print(\"k. proj(u,v) = \", u.dot(v)*v / (np.linalg.norm(v)**2))\n",
    "print(\"l. proj(w,v) = \", w.dot(v)*v / (np.linalg.norm(v)**2))\n",
    "print(\"m. proj(u,w) = \", u.dot(w)*w / (np.linalg.norm(w)**2))"
   ]
  },
  {
   "cell_type": "code",
   "execution_count": 25,
   "id": "c20a2719-b96c-463b-8bc1-2229079b666a",
   "metadata": {},
   "outputs": [
    {
     "name": "stdout",
     "output_type": "stream",
     "text": [
      "a. 3u - 2v =  [ -1   7 -22]\n",
      "b. 5u + 3v - 4w =  [ -1  26 -29]\n",
      "c. u.v , v.w , u.w =  -15 , 34 , -27\n",
      "d. ||u||, ||v||, ||w|| =  5.0990195135927845 , 5.477225575051661 , 7.0\n",
      "e. angle(u,v) cos θ =  -0.5370861555295747\n",
      "f. angle(v,w) cos α =  0.8867889026274118\n",
      "g. angle(u,w) cos β =  -0.7564479498187099\n",
      "h. d(u,v) =  9.273618495495704\n",
      "i. d(w,v) =  3.3166247903554\n",
      "j. d(u,w) =  11.357816691600547\n",
      "k. proj(u,v) =  [-1.  -0.5 -2.5]\n",
      "l. proj(w,v) =  [2.26666667 1.13333333 5.66666667]\n",
      "m. proj(u,w) =  [-1.65306122  1.10204082 -3.30612245]\n"
     ]
    }
   ],
   "source": [
    "import numpy as np\n",
    "\n",
    "u = np.array([1,3,-4])\n",
    "v = np.array([2,1,5])\n",
    "w = np.array([3,-2,6])\n",
    "\n",
    "print(\"a. 3u - 2v = \", 3*u - 2*v)\n",
    "print(\"b. 5u + 3v - 4w = \", 5*u + 3*v - 4*w)\n",
    "print(\"c. u.v , v.w , u.w = \", u.dot(v),\",\", v.dot(w),\",\", u.dot(w))\n",
    "print(\"d. ||u||, ||v||, ||w|| = \", np.sqrt(u.dot(u)),\",\", np.sqrt(v.dot(v)),\",\", np.sqrt(w.dot(w)))\n",
    "print(\"e. angle(u,v) cos θ = \", u.dot(v)/ (np.linalg.norm(u) * np.linalg.norm(v)))\n",
    "print(\"f. angle(v,w) cos α = \", v.dot(w)/ (np.linalg.norm(v) * np.linalg.norm(w)))\n",
    "print(\"g. angle(u,w) cos β = \", u.dot(w)/ (np.linalg.norm(u) * np.linalg.norm(w)))\n",
    "print(\"h. d(u,v) = \", np.linalg.norm(u-v))\n",
    "print(\"i. d(w,v) = \", np.linalg.norm(w-v))\n",
    "print(\"j. d(u,w) = \", np.linalg.norm(u-w))\n",
    "print(\"k. proj(u,v) = \", u.dot(v)*v / (np.linalg.norm(v)**2))\n",
    "print(\"l. proj(w,v) = \", w.dot(v)*v / (np.linalg.norm(v)**2))\n",
    "print(\"m. proj(u,w) = \", u.dot(w)*w / (np.linalg.norm(w)**2))"
   ]
  },
  {
   "cell_type": "code",
   "execution_count": 23,
   "id": "85cfa752-8bdd-46d3-9fb4-a11b9aae1ab8",
   "metadata": {},
   "outputs": [
    {
     "name": "stdout",
     "output_type": "stream",
     "text": [
      "a. 4u - 3v =  [ -7 -14  13  45   0]\n",
      "b. 5u + 2v - 2w =  [ 16 -31  28  16 -23]\n",
      "c. u.v , v.w , u.w =  -6 , 5 , -13\n",
      "d. ||u||, ||v||, ||w|| =  9.486832980505138 , 9.746794344808963 , 3.7416573867739413\n",
      "e. angle(u,v) cos θ =  -0.06488856845230502\n",
      "f. angle(v,w) cos α =  0.13710212427677046\n",
      "g. angle(u,w) cos β =  -0.3662335103823572\n",
      "h. d(u,v) =  14.035668847618199\n",
      "i. d(w,v) =  9.9498743710662\n",
      "j. d(u,w) =  11.40175425099138\n",
      "k. proj(u,v) =  [-0.31578947  0.12631579 -0.06315789  0.44210526  0.25263158]\n",
      "l. proj(w,v) =  [ 0.26315789 -0.10526316  0.05263158 -0.36842105 -0.21052632]\n",
      "m. proj(u,w) =  [-1.85714286 -0.92857143  2.78571429  0.          0.        ]\n"
     ]
    }
   ],
   "source": [
    "import numpy as np\n",
    "\n",
    "u = np.array([2,-5,4,6,-3])\n",
    "v = np.array([5,-2,1,-7,-4])\n",
    "w = np.array([2,1,-3,0,0])\n",
    "\n",
    "print(\"a. 4u - 3v = \", 4*u - 3*v)\n",
    "print(\"b. 5u + 2v - 2w = \", (5*u) + (2*v) - (2*w))\n",
    "print(\"c. u.v , v.w , u.w = \", u.dot(v),\",\", v.dot(w),\",\", u.dot(w))\n",
    "print(\"d. ||u||, ||v||, ||w|| = \", np.sqrt(u.dot(u)),\",\", np.sqrt(v.dot(v)),\",\", np.sqrt(w.dot(w)))\n",
    "print(\"e. angle(u,v) cos θ = \", u.dot(v)/ (np.linalg.norm(u) * np.linalg.norm(v)))\n",
    "print(\"f. angle(v,w) cos α = \", v.dot(w)/ (np.linalg.norm(v) * np.linalg.norm(w)))\n",
    "print(\"g. angle(u,w) cos β = \", u.dot(w)/ (np.linalg.norm(u) * np.linalg.norm(w)))\n",
    "print(\"h. d(u,v) = \", np.linalg.norm(u-v))\n",
    "print(\"i. d(w,v) = \", np.linalg.norm(w-v))\n",
    "print(\"j. d(u,w) = \", np.linalg.norm(u-w))\n",
    "print(\"k. proj(u,v) = \", u.dot(v)*v / (np.linalg.norm(v)**2))\n",
    "print(\"l. proj(w,v) = \", w.dot(v)*v / (np.linalg.norm(v)**2))\n",
    "print(\"m. proj(u,w) = \", u.dot(w)*w / (np.linalg.norm(w)**2))"
   ]
  },
  {
   "cell_type": "code",
   "execution_count": 29,
   "id": "62c74ed8-f32c-42c0-a457-e99b53a2f116",
   "metadata": {},
   "outputs": [
    {
     "name": "stdout",
     "output_type": "stream",
     "text": [
      "u' =  [ 0.58123819 -0.81373347]\n",
      "v' =  [ 0.2  0.4 -0.4  0.8]\n",
      "w' =  [ 0.52026598 -0.34684399  0.78039897]\n"
     ]
    }
   ],
   "source": [
    "import numpy as np\n",
    "\n",
    "u = np.array([5, -7])\n",
    "v = np.array([1, 2, -2, 4])\n",
    "w = np.array([(1/2), -(1/3), (3/4)])\n",
    "\n",
    "print(\"u' = \", u / np.sqrt(u.dot(u)))\n",
    "print(\"v' = \", v / np.sqrt(v.dot(v)))\n",
    "print(\"w' = \", w / np.sqrt(w.dot(w)))"
   ]
  },
  {
   "cell_type": "code",
   "execution_count": 31,
   "id": "98a9fce8-4aac-459a-9eca-042639454d62",
   "metadata": {},
   "outputs": [
    {
     "name": "stdout",
     "output_type": "stream",
     "text": [
      "||u|| =  3.0\n",
      "||v|| =  13.0\n",
      "||u + v|| =  10.954451150103322\n",
      "||k*u|| =  9.0\n"
     ]
    }
   ],
   "source": [
    "import numpy as np\n",
    "\n",
    "u = np.array([1,2,-2])\n",
    "v = np.array([3,-12,4])\n",
    "k = -3\n",
    "\n",
    "print(\"||u|| = \", np.sqrt(u.dot(u)))\n",
    "print(\"||v|| = \", np.sqrt(v.dot(v)))\n",
    "print(\"||u + v|| = \", np.linalg.norm(u+v))\n",
    "print(\"||k*u|| = \", np.linalg.norm(k*u))"
   ]
  },
  {
   "cell_type": "code",
   "execution_count": 41,
   "id": "e60a31c1-7e80-4997-8de4-6cb94c8bf6c7",
   "metadata": {},
   "outputs": [
    {
     "name": "stdout",
     "output_type": "stream",
     "text": [
      "u*v =  0\n"
     ]
    }
   ],
   "source": [
    "#number 6 part a\n",
    "import numpy as np\n",
    "\n",
    "k = 6\n",
    "u = np.array([3,k,-2])\n",
    "v = np.array([6,-4,-3])\n",
    "print(\"u*v = \", u.dot(v))\n"
   ]
  },
  {
   "cell_type": "code",
   "execution_count": 43,
   "id": "4f0e13b1-9490-4840-bf5b-3258c152440b",
   "metadata": {},
   "outputs": [
    {
     "name": "stdout",
     "output_type": "stream",
     "text": [
      "u*v =  0\n"
     ]
    }
   ],
   "source": [
    "#number 6 part b\n",
    "import numpy as np\n",
    "\n",
    "k = 3\n",
    "u = np.array([5,k,-4,2])\n",
    "v = np.array([1,-3,2,2*k])\n",
    "print(\"u*v = \", u.dot(v))"
   ]
  },
  {
   "cell_type": "code",
   "execution_count": 46,
   "id": "0cccc2e7-e049-4518-8589-494159a7b1d2",
   "metadata": {},
   "outputs": [
    {
     "name": "stdout",
     "output_type": "stream",
     "text": [
      "u*v:  0.0\n"
     ]
    }
   ],
   "source": [
    "#number 6 part c\n",
    "import numpy as np\n",
    "\n",
    "k= 1.5\n",
    "u = np.array([1,7,k+2,-2])\n",
    "v = np.array([3,k,-3,k])\n",
    "print(\"u*v: \", u.dot(v))"
   ]
  },
  {
   "cell_type": "code",
   "execution_count": null,
   "id": "be7799af-e07a-4b07-b701-e978d5605639",
   "metadata": {},
   "outputs": [],
   "source": []
  }
 ],
 "metadata": {
  "kernelspec": {
   "display_name": "Python 3 (ipykernel)",
   "language": "python",
   "name": "python3"
  },
  "language_info": {
   "codemirror_mode": {
    "name": "ipython",
    "version": 3
   },
   "file_extension": ".py",
   "mimetype": "text/x-python",
   "name": "python",
   "nbconvert_exporter": "python",
   "pygments_lexer": "ipython3",
   "version": "3.11.4"
  }
 },
 "nbformat": 4,
 "nbformat_minor": 5
}
