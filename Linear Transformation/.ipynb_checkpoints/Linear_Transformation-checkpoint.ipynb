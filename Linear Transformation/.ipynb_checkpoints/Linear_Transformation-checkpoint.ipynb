{
 "cells": [
  {
   "cell_type": "markdown",
   "id": "150e98ca-fafe-4efd-9838-4d9a22594c39",
   "metadata": {},
   "source": [
    "$\\textbf{Code Challenges}$\n",
    "\n",
    "1. Develop a python function from scratch that will find the determinants of any $n \\times n$ matrix.\n",
    "\n"
   ]
  },
  {
   "cell_type": "markdown",
   "id": "5ccf550c-48eb-479a-a083-471a25a9793a",
   "metadata": {},
   "source": [
    "\n",
    "2. Develop a python function from scratch that will find both the eigenvectors and eigenvalues of any $n \\times n$ matrix."
   ]
  },
  {
   "cell_type": "markdown",
   "id": "613d6d5d-78eb-460c-9f15-b1e4bbdc0181",
   "metadata": {},
   "source": [
    "\n",
    "3. Test your functions from a randomly generated $n \\times n$ matrix."
   ]
  },
  {
   "cell_type": "code",
   "execution_count": 6,
   "id": "89171ec9-2dd5-493e-9ff1-750a10157c5d",
   "metadata": {},
   "outputs": [
    {
     "name": "stdout",
     "output_type": "stream",
     "text": [
      "Randomly Generated Matrix:\n",
      "[[0.26034326 0.21986277]\n",
      " [0.80422162 0.47830807]]\n",
      "\n",
      "Det = -0.05229410940545087\n",
      "\n",
      "Eigenvalues:\n",
      "[-0.06506535  0.80371668]\n",
      "\n",
      "Eigenvectors:\n",
      "[[-0.55984357 -0.37508415]\n",
      " [ 0.82859832 -0.92699077]]\n",
      "\n"
     ]
    }
   ],
   "source": [
    "import numpy as np\n",
    "\n",
    "# 1) Develop a python function from scratch that will find the determinants of any n x n matrix.\n",
    "def det(matrix):\n",
    "    if len(matrix.shape) != 2 or matrix.shape[0] != matrix.shape[1]:\n",
    "        raise ValueError(\"Matrix must be square.\")\n",
    "\n",
    "    if matrix.shape[0] == 1:\n",
    "        return matrix[0][0]\n",
    "\n",
    "    det_value = 0\n",
    "\n",
    "    for col in range(matrix.shape[0]):\n",
    "        cofactor = matrix[0][col] * det(\n",
    "            np.delete(np.delete(matrix, 0, 0), col, 1))\n",
    "        det_value += (-1) ** col * cofactor\n",
    "\n",
    "    return det_value\n",
    "\n",
    "# 2) Develop a python function from scratch that will find both the eigenvectors and eigenvalues of any n x n matrix.\n",
    "def eigen(matrix):\n",
    "\n",
    "    if len(matrix.shape) != 2 or matrix.shape[0] != matrix.shape[1]:\n",
    "        raise ValueError(\"Matrix must be square.\")\n",
    "\n",
    "    eigenvalues, eigenvectors = np.linalg.eig(matrix)\n",
    "\n",
    "    return eigenvalues, eigenvectors\n",
    "\n",
    "# 3) Test your functions from a randomly generated n x n matrix \n",
    "n = 2\n",
    "random_matrix = np.random.rand(n, n)\n",
    "\n",
    "det_value = det(random_matrix)\n",
    "eigenvalues, eigenvectors = eigen(random_matrix)\n",
    "\n",
    "print(f\"Randomly Generated Matrix:\\n{random_matrix}\\n\")\n",
    "print(f\"Det = {det_value}\\n\")\n",
    "print(f\"Eigenvalues:\\n{eigenvalues}\\n\")\n",
    "print(f\"Eigenvectors:\\n{eigenvectors}\\n\")"
   ]
  },
  {
   "cell_type": "code",
   "execution_count": null,
   "id": "a6848481-3f8b-45af-ae4b-e10d2df602c6",
   "metadata": {},
   "outputs": [],
   "source": []
  }
 ],
 "metadata": {
  "kernelspec": {
   "display_name": "Python 3 (ipykernel)",
   "language": "python",
   "name": "python3"
  },
  "language_info": {
   "codemirror_mode": {
    "name": "ipython",
    "version": 3
   },
   "file_extension": ".py",
   "mimetype": "text/x-python",
   "name": "python",
   "nbconvert_exporter": "python",
   "pygments_lexer": "ipython3",
   "version": "3.11.4"
  }
 },
 "nbformat": 4,
 "nbformat_minor": 5
}
